{
 "cells": [
  {
   "cell_type": "markdown",
   "id": "cff0a1e6",
   "metadata": {},
   "source": [
    "# Tutorial of Using qshap for Q-SHAP"
   ]
  },
  {
   "cell_type": "markdown",
   "id": "8a6f9aa6-5537-4b1c-97b0-0b3bcdb2155a",
   "metadata": {},
   "source": [
    "## Install the Package `qshap`\n",
    "`qshap` is available on PyPI. To install the package, run the following command in terminal:"
   ]
  },
  {
   "cell_type": "code",
   "execution_count": null,
   "id": "7c8a7be1-4b8a-40c6-8f53-12e0851aad4b",
   "metadata": {},
   "outputs": [],
   "source": [
    "python -m pip install qshap"
   ]
  },
  {
   "cell_type": "markdown",
   "id": "e3ae8da5-110f-4087-9d33-97cafa0736fc",
   "metadata": {},
   "source": [
    "## Import Required Libraries\n",
    "Before we start, we should import the `gazer` module in `qshap`."
   ]
  },
  {
   "cell_type": "code",
   "execution_count": 2,
   "id": "ecef9b34",
   "metadata": {},
   "outputs": [],
   "source": [
    "from qshap import gazer"
   ]
  },
  {
   "cell_type": "markdown",
   "id": "f2f162fb-71a1-4780-a615-e00f8324d3bf",
   "metadata": {},
   "source": [
    "Then we import other important packages and modules for the usage of this tutorial."
   ]
  },
  {
   "cell_type": "code",
   "execution_count": 3,
   "id": "91ae1758-31cb-4c66-a24a-6760197c9fc7",
   "metadata": {},
   "outputs": [],
   "source": [
    "import sklearn.ensemble\n",
    "import numpy as np\n",
    "import time as time\n",
    "from sklearn.model_selection import train_test_split\n",
    "from sklearn.tree import DecisionTreeRegressor\n",
    "from sklearn.ensemble import GradientBoostingRegressor\n",
    "import xgboost\n",
    "from sklearn.datasets import make_regression"
   ]
  },
  {
   "cell_type": "markdown",
   "id": "14029082-cb9d-4d5e-aa52-ed92b44b62de",
   "metadata": {},
   "source": [
    "## Make an Example Data\n",
    "Let's start with a toy example with 1000 samples and 1000 features."
   ]
  },
  {
   "cell_type": "code",
   "execution_count": 5,
   "id": "57d16b9d-713a-48e3-aa15-b96200b330dc",
   "metadata": {},
   "outputs": [],
   "source": [
    "np.random.seed(0)\n",
    "x, y, coefficients = make_regression(n_samples=1000, n_features=1000, coef=True, random_state=0)"
   ]
  },
  {
   "cell_type": "markdown",
   "id": "788ac9c0",
   "metadata": {},
   "source": [
    "## Example 1: Decision Tree from Scikit-learn\n",
    "The initial run after import will be slower because `qshap` calls `Numba`, which uses a Just-in-Time (JIT) compiler that takes time to compile the functions."
   ]
  },
  {
   "cell_type": "markdown",
   "id": "b5244e8e",
   "metadata": {},
   "source": [
    "### Construct the decision tree\n",
    "We will use `DecisionTreeRegressor` from scikit-learn to train a decision tree on our simulated data."
   ]
  },
  {
   "cell_type": "code",
   "execution_count": 6,
   "id": "3d404625",
   "metadata": {},
   "outputs": [],
   "source": [
    "# model fitting\n",
    "# scikit learn decision tree example, the initial run after import will be slower since numba is comiling\n",
    "max_depth = 2\n",
    "tree_regressor = DecisionTreeRegressor(max_depth=max_depth)\n",
    "tree_fit = tree_regressor.fit(x, y)"
   ]
  },
  {
   "cell_type": "markdown",
   "id": "23d4ac13",
   "metadata": {},
   "source": [
    "### Calculate feature-specific $R^2$\n",
    "We instantiate the `gazer` class from `qshap` using the `tree_regressor` fitted in the previous stage. Then, we call the `rsq` method on this instance to calculate the Shapley $R^2$ using the `x` and `y` from our dataset."
   ]
  },
  {
   "cell_type": "code",
   "execution_count": 7,
   "id": "3e8f5619",
   "metadata": {},
   "outputs": [],
   "source": [
    "gazer_rsq = gazer(tree_regressor)\n",
    "rsq_res = gazer.rsq(gazer_rsq, x, y)"
   ]
  },
  {
   "cell_type": "markdown",
   "id": "368b0f28",
   "metadata": {},
   "source": [
    "### Check with model $R^2$\n",
    "In this section, we will check the model $R^2$ as well as the sum of Shapley $R^2$ calculated from `qshap` to verify the additivity property of Shapley values."
   ]
  },
  {
   "cell_type": "code",
   "execution_count": 8,
   "id": "c5acc2e3",
   "metadata": {},
   "outputs": [
    {
     "name": "stdout",
     "output_type": "stream",
     "text": [
      "Shapley R^2 sum is: 0.2759939277003993\n",
      "Model R^2 is: 0.2759939277003993\n",
      "\n"
     ]
    }
   ],
   "source": [
    "# Let's check the model R^2\n",
    "ypred = tree_regressor.predict(x)\n",
    "sst = np.sum((y - np.mean(y)) ** 2)\n",
    "sse = np.sum((y - ypred) ** 2)\n",
    "model_rsq = 1 - sse/sst\n",
    "\n",
    "print(\"Shapley R^2 sum is: \" + str(np.sum(rsq_res)))\n",
    "print(\"Model R^2 is: \" + str(model_rsq) + \"\\n\")"
   ]
  },
  {
   "cell_type": "markdown",
   "id": "9e5609d4",
   "metadata": {},
   "source": [
    "## Example 2: Gradient Boosted Decision Trees from Scikit-learn\n",
    "We will use the same dataset, but use Gradient Boosted Decision Trees (GBDT)s from `scikit-learn` instead. "
   ]
  },
  {
   "cell_type": "markdown",
   "id": "104eeb20",
   "metadata": {},
   "source": [
    "### Construct gradient boosted decision trees"
   ]
  },
  {
   "cell_type": "code",
   "execution_count": 9,
   "id": "1dc63fbd",
   "metadata": {},
   "outputs": [],
   "source": [
    "max_depth = 2\n",
    "n_estimators = 50\n",
    "tree_regressor = GradientBoostingRegressor(n_estimators=n_estimators, max_depth=max_depth)\n",
    "tree_fit = tree_regressor.fit(x, y)"
   ]
  },
  {
   "cell_type": "markdown",
   "id": "b32bcb1d",
   "metadata": {},
   "source": [
    "### Calculate feature-specific $R^2$\n",
    "Note that the usage is the same as using a decision tree as shown in the above example. We instantiate the `gazer` class from `qshap` using the `tree_regressor` fitted in the previous stage. Then, we call the `rsq` method on this instance to calculate the Shapley $R^2$ using the `x` and `y` from our dataset."
   ]
  },
  {
   "cell_type": "code",
   "execution_count": 10,
   "id": "f395cd04",
   "metadata": {},
   "outputs": [
    {
     "name": "stderr",
     "output_type": "stream",
     "text": [
      "100%|███████████████████████████████████████████████████████████████████████| 50/50 [00:01<00:00, 41.81it/s]\n"
     ]
    }
   ],
   "source": [
    "gazer_rsq = gazer(tree_regressor)\n",
    "rsq_res = gazer.rsq(gazer_rsq, x, y)"
   ]
  },
  {
   "cell_type": "markdown",
   "id": "5c86dc24",
   "metadata": {},
   "source": [
    "## Example 3: Tree Ensemble from XGBoost\n",
    "We will demonstrate how to use `qshap` for XGBoost in this section, on the same dataset."
   ]
  },
  {
   "cell_type": "markdown",
   "id": "333ba00f",
   "metadata": {},
   "source": [
    "### Construct a tree ensemble using XGBoost"
   ]
  },
  {
   "cell_type": "code",
   "execution_count": 11,
   "id": "5c62576b",
   "metadata": {},
   "outputs": [
    {
     "data": {
      "text/html": [
       "<style>#sk-container-id-1 {\n",
       "  /* Definition of color scheme common for light and dark mode */\n",
       "  --sklearn-color-text: black;\n",
       "  --sklearn-color-line: gray;\n",
       "  /* Definition of color scheme for unfitted estimators */\n",
       "  --sklearn-color-unfitted-level-0: #fff5e6;\n",
       "  --sklearn-color-unfitted-level-1: #f6e4d2;\n",
       "  --sklearn-color-unfitted-level-2: #ffe0b3;\n",
       "  --sklearn-color-unfitted-level-3: chocolate;\n",
       "  /* Definition of color scheme for fitted estimators */\n",
       "  --sklearn-color-fitted-level-0: #f0f8ff;\n",
       "  --sklearn-color-fitted-level-1: #d4ebff;\n",
       "  --sklearn-color-fitted-level-2: #b3dbfd;\n",
       "  --sklearn-color-fitted-level-3: cornflowerblue;\n",
       "\n",
       "  /* Specific color for light theme */\n",
       "  --sklearn-color-text-on-default-background: var(--sg-text-color, var(--theme-code-foreground, var(--jp-content-font-color1, black)));\n",
       "  --sklearn-color-background: var(--sg-background-color, var(--theme-background, var(--jp-layout-color0, white)));\n",
       "  --sklearn-color-border-box: var(--sg-text-color, var(--theme-code-foreground, var(--jp-content-font-color1, black)));\n",
       "  --sklearn-color-icon: #696969;\n",
       "\n",
       "  @media (prefers-color-scheme: dark) {\n",
       "    /* Redefinition of color scheme for dark theme */\n",
       "    --sklearn-color-text-on-default-background: var(--sg-text-color, var(--theme-code-foreground, var(--jp-content-font-color1, white)));\n",
       "    --sklearn-color-background: var(--sg-background-color, var(--theme-background, var(--jp-layout-color0, #111)));\n",
       "    --sklearn-color-border-box: var(--sg-text-color, var(--theme-code-foreground, var(--jp-content-font-color1, white)));\n",
       "    --sklearn-color-icon: #878787;\n",
       "  }\n",
       "}\n",
       "\n",
       "#sk-container-id-1 {\n",
       "  color: var(--sklearn-color-text);\n",
       "}\n",
       "\n",
       "#sk-container-id-1 pre {\n",
       "  padding: 0;\n",
       "}\n",
       "\n",
       "#sk-container-id-1 input.sk-hidden--visually {\n",
       "  border: 0;\n",
       "  clip: rect(1px 1px 1px 1px);\n",
       "  clip: rect(1px, 1px, 1px, 1px);\n",
       "  height: 1px;\n",
       "  margin: -1px;\n",
       "  overflow: hidden;\n",
       "  padding: 0;\n",
       "  position: absolute;\n",
       "  width: 1px;\n",
       "}\n",
       "\n",
       "#sk-container-id-1 div.sk-dashed-wrapped {\n",
       "  border: 1px dashed var(--sklearn-color-line);\n",
       "  margin: 0 0.4em 0.5em 0.4em;\n",
       "  box-sizing: border-box;\n",
       "  padding-bottom: 0.4em;\n",
       "  background-color: var(--sklearn-color-background);\n",
       "}\n",
       "\n",
       "#sk-container-id-1 div.sk-container {\n",
       "  /* jupyter's `normalize.less` sets `[hidden] { display: none; }`\n",
       "     but bootstrap.min.css set `[hidden] { display: none !important; }`\n",
       "     so we also need the `!important` here to be able to override the\n",
       "     default hidden behavior on the sphinx rendered scikit-learn.org.\n",
       "     See: https://github.com/scikit-learn/scikit-learn/issues/21755 */\n",
       "  display: inline-block !important;\n",
       "  position: relative;\n",
       "}\n",
       "\n",
       "#sk-container-id-1 div.sk-text-repr-fallback {\n",
       "  display: none;\n",
       "}\n",
       "\n",
       "div.sk-parallel-item,\n",
       "div.sk-serial,\n",
       "div.sk-item {\n",
       "  /* draw centered vertical line to link estimators */\n",
       "  background-image: linear-gradient(var(--sklearn-color-text-on-default-background), var(--sklearn-color-text-on-default-background));\n",
       "  background-size: 2px 100%;\n",
       "  background-repeat: no-repeat;\n",
       "  background-position: center center;\n",
       "}\n",
       "\n",
       "/* Parallel-specific style estimator block */\n",
       "\n",
       "#sk-container-id-1 div.sk-parallel-item::after {\n",
       "  content: \"\";\n",
       "  width: 100%;\n",
       "  border-bottom: 2px solid var(--sklearn-color-text-on-default-background);\n",
       "  flex-grow: 1;\n",
       "}\n",
       "\n",
       "#sk-container-id-1 div.sk-parallel {\n",
       "  display: flex;\n",
       "  align-items: stretch;\n",
       "  justify-content: center;\n",
       "  background-color: var(--sklearn-color-background);\n",
       "  position: relative;\n",
       "}\n",
       "\n",
       "#sk-container-id-1 div.sk-parallel-item {\n",
       "  display: flex;\n",
       "  flex-direction: column;\n",
       "}\n",
       "\n",
       "#sk-container-id-1 div.sk-parallel-item:first-child::after {\n",
       "  align-self: flex-end;\n",
       "  width: 50%;\n",
       "}\n",
       "\n",
       "#sk-container-id-1 div.sk-parallel-item:last-child::after {\n",
       "  align-self: flex-start;\n",
       "  width: 50%;\n",
       "}\n",
       "\n",
       "#sk-container-id-1 div.sk-parallel-item:only-child::after {\n",
       "  width: 0;\n",
       "}\n",
       "\n",
       "/* Serial-specific style estimator block */\n",
       "\n",
       "#sk-container-id-1 div.sk-serial {\n",
       "  display: flex;\n",
       "  flex-direction: column;\n",
       "  align-items: center;\n",
       "  background-color: var(--sklearn-color-background);\n",
       "  padding-right: 1em;\n",
       "  padding-left: 1em;\n",
       "}\n",
       "\n",
       "\n",
       "/* Toggleable style: style used for estimator/Pipeline/ColumnTransformer box that is\n",
       "clickable and can be expanded/collapsed.\n",
       "- Pipeline and ColumnTransformer use this feature and define the default style\n",
       "- Estimators will overwrite some part of the style using the `sk-estimator` class\n",
       "*/\n",
       "\n",
       "/* Pipeline and ColumnTransformer style (default) */\n",
       "\n",
       "#sk-container-id-1 div.sk-toggleable {\n",
       "  /* Default theme specific background. It is overwritten whether we have a\n",
       "  specific estimator or a Pipeline/ColumnTransformer */\n",
       "  background-color: var(--sklearn-color-background);\n",
       "}\n",
       "\n",
       "/* Toggleable label */\n",
       "#sk-container-id-1 label.sk-toggleable__label {\n",
       "  cursor: pointer;\n",
       "  display: block;\n",
       "  width: 100%;\n",
       "  margin-bottom: 0;\n",
       "  padding: 0.5em;\n",
       "  box-sizing: border-box;\n",
       "  text-align: center;\n",
       "}\n",
       "\n",
       "#sk-container-id-1 label.sk-toggleable__label-arrow:before {\n",
       "  /* Arrow on the left of the label */\n",
       "  content: \"▸\";\n",
       "  float: left;\n",
       "  margin-right: 0.25em;\n",
       "  color: var(--sklearn-color-icon);\n",
       "}\n",
       "\n",
       "#sk-container-id-1 label.sk-toggleable__label-arrow:hover:before {\n",
       "  color: var(--sklearn-color-text);\n",
       "}\n",
       "\n",
       "/* Toggleable content - dropdown */\n",
       "\n",
       "#sk-container-id-1 div.sk-toggleable__content {\n",
       "  max-height: 0;\n",
       "  max-width: 0;\n",
       "  overflow: hidden;\n",
       "  text-align: left;\n",
       "  /* unfitted */\n",
       "  background-color: var(--sklearn-color-unfitted-level-0);\n",
       "}\n",
       "\n",
       "#sk-container-id-1 div.sk-toggleable__content.fitted {\n",
       "  /* fitted */\n",
       "  background-color: var(--sklearn-color-fitted-level-0);\n",
       "}\n",
       "\n",
       "#sk-container-id-1 div.sk-toggleable__content pre {\n",
       "  margin: 0.2em;\n",
       "  border-radius: 0.25em;\n",
       "  color: var(--sklearn-color-text);\n",
       "  /* unfitted */\n",
       "  background-color: var(--sklearn-color-unfitted-level-0);\n",
       "}\n",
       "\n",
       "#sk-container-id-1 div.sk-toggleable__content.fitted pre {\n",
       "  /* unfitted */\n",
       "  background-color: var(--sklearn-color-fitted-level-0);\n",
       "}\n",
       "\n",
       "#sk-container-id-1 input.sk-toggleable__control:checked~div.sk-toggleable__content {\n",
       "  /* Expand drop-down */\n",
       "  max-height: 200px;\n",
       "  max-width: 100%;\n",
       "  overflow: auto;\n",
       "}\n",
       "\n",
       "#sk-container-id-1 input.sk-toggleable__control:checked~label.sk-toggleable__label-arrow:before {\n",
       "  content: \"▾\";\n",
       "}\n",
       "\n",
       "/* Pipeline/ColumnTransformer-specific style */\n",
       "\n",
       "#sk-container-id-1 div.sk-label input.sk-toggleable__control:checked~label.sk-toggleable__label {\n",
       "  color: var(--sklearn-color-text);\n",
       "  background-color: var(--sklearn-color-unfitted-level-2);\n",
       "}\n",
       "\n",
       "#sk-container-id-1 div.sk-label.fitted input.sk-toggleable__control:checked~label.sk-toggleable__label {\n",
       "  background-color: var(--sklearn-color-fitted-level-2);\n",
       "}\n",
       "\n",
       "/* Estimator-specific style */\n",
       "\n",
       "/* Colorize estimator box */\n",
       "#sk-container-id-1 div.sk-estimator input.sk-toggleable__control:checked~label.sk-toggleable__label {\n",
       "  /* unfitted */\n",
       "  background-color: var(--sklearn-color-unfitted-level-2);\n",
       "}\n",
       "\n",
       "#sk-container-id-1 div.sk-estimator.fitted input.sk-toggleable__control:checked~label.sk-toggleable__label {\n",
       "  /* fitted */\n",
       "  background-color: var(--sklearn-color-fitted-level-2);\n",
       "}\n",
       "\n",
       "#sk-container-id-1 div.sk-label label.sk-toggleable__label,\n",
       "#sk-container-id-1 div.sk-label label {\n",
       "  /* The background is the default theme color */\n",
       "  color: var(--sklearn-color-text-on-default-background);\n",
       "}\n",
       "\n",
       "/* On hover, darken the color of the background */\n",
       "#sk-container-id-1 div.sk-label:hover label.sk-toggleable__label {\n",
       "  color: var(--sklearn-color-text);\n",
       "  background-color: var(--sklearn-color-unfitted-level-2);\n",
       "}\n",
       "\n",
       "/* Label box, darken color on hover, fitted */\n",
       "#sk-container-id-1 div.sk-label.fitted:hover label.sk-toggleable__label.fitted {\n",
       "  color: var(--sklearn-color-text);\n",
       "  background-color: var(--sklearn-color-fitted-level-2);\n",
       "}\n",
       "\n",
       "/* Estimator label */\n",
       "\n",
       "#sk-container-id-1 div.sk-label label {\n",
       "  font-family: monospace;\n",
       "  font-weight: bold;\n",
       "  display: inline-block;\n",
       "  line-height: 1.2em;\n",
       "}\n",
       "\n",
       "#sk-container-id-1 div.sk-label-container {\n",
       "  text-align: center;\n",
       "}\n",
       "\n",
       "/* Estimator-specific */\n",
       "#sk-container-id-1 div.sk-estimator {\n",
       "  font-family: monospace;\n",
       "  border: 1px dotted var(--sklearn-color-border-box);\n",
       "  border-radius: 0.25em;\n",
       "  box-sizing: border-box;\n",
       "  margin-bottom: 0.5em;\n",
       "  /* unfitted */\n",
       "  background-color: var(--sklearn-color-unfitted-level-0);\n",
       "}\n",
       "\n",
       "#sk-container-id-1 div.sk-estimator.fitted {\n",
       "  /* fitted */\n",
       "  background-color: var(--sklearn-color-fitted-level-0);\n",
       "}\n",
       "\n",
       "/* on hover */\n",
       "#sk-container-id-1 div.sk-estimator:hover {\n",
       "  /* unfitted */\n",
       "  background-color: var(--sklearn-color-unfitted-level-2);\n",
       "}\n",
       "\n",
       "#sk-container-id-1 div.sk-estimator.fitted:hover {\n",
       "  /* fitted */\n",
       "  background-color: var(--sklearn-color-fitted-level-2);\n",
       "}\n",
       "\n",
       "/* Specification for estimator info (e.g. \"i\" and \"?\") */\n",
       "\n",
       "/* Common style for \"i\" and \"?\" */\n",
       "\n",
       ".sk-estimator-doc-link,\n",
       "a:link.sk-estimator-doc-link,\n",
       "a:visited.sk-estimator-doc-link {\n",
       "  float: right;\n",
       "  font-size: smaller;\n",
       "  line-height: 1em;\n",
       "  font-family: monospace;\n",
       "  background-color: var(--sklearn-color-background);\n",
       "  border-radius: 1em;\n",
       "  height: 1em;\n",
       "  width: 1em;\n",
       "  text-decoration: none !important;\n",
       "  margin-left: 1ex;\n",
       "  /* unfitted */\n",
       "  border: var(--sklearn-color-unfitted-level-1) 1pt solid;\n",
       "  color: var(--sklearn-color-unfitted-level-1);\n",
       "}\n",
       "\n",
       ".sk-estimator-doc-link.fitted,\n",
       "a:link.sk-estimator-doc-link.fitted,\n",
       "a:visited.sk-estimator-doc-link.fitted {\n",
       "  /* fitted */\n",
       "  border: var(--sklearn-color-fitted-level-1) 1pt solid;\n",
       "  color: var(--sklearn-color-fitted-level-1);\n",
       "}\n",
       "\n",
       "/* On hover */\n",
       "div.sk-estimator:hover .sk-estimator-doc-link:hover,\n",
       ".sk-estimator-doc-link:hover,\n",
       "div.sk-label-container:hover .sk-estimator-doc-link:hover,\n",
       ".sk-estimator-doc-link:hover {\n",
       "  /* unfitted */\n",
       "  background-color: var(--sklearn-color-unfitted-level-3);\n",
       "  color: var(--sklearn-color-background);\n",
       "  text-decoration: none;\n",
       "}\n",
       "\n",
       "div.sk-estimator.fitted:hover .sk-estimator-doc-link.fitted:hover,\n",
       ".sk-estimator-doc-link.fitted:hover,\n",
       "div.sk-label-container:hover .sk-estimator-doc-link.fitted:hover,\n",
       ".sk-estimator-doc-link.fitted:hover {\n",
       "  /* fitted */\n",
       "  background-color: var(--sklearn-color-fitted-level-3);\n",
       "  color: var(--sklearn-color-background);\n",
       "  text-decoration: none;\n",
       "}\n",
       "\n",
       "/* Span, style for the box shown on hovering the info icon */\n",
       ".sk-estimator-doc-link span {\n",
       "  display: none;\n",
       "  z-index: 9999;\n",
       "  position: relative;\n",
       "  font-weight: normal;\n",
       "  right: .2ex;\n",
       "  padding: .5ex;\n",
       "  margin: .5ex;\n",
       "  width: min-content;\n",
       "  min-width: 20ex;\n",
       "  max-width: 50ex;\n",
       "  color: var(--sklearn-color-text);\n",
       "  box-shadow: 2pt 2pt 4pt #999;\n",
       "  /* unfitted */\n",
       "  background: var(--sklearn-color-unfitted-level-0);\n",
       "  border: .5pt solid var(--sklearn-color-unfitted-level-3);\n",
       "}\n",
       "\n",
       ".sk-estimator-doc-link.fitted span {\n",
       "  /* fitted */\n",
       "  background: var(--sklearn-color-fitted-level-0);\n",
       "  border: var(--sklearn-color-fitted-level-3);\n",
       "}\n",
       "\n",
       ".sk-estimator-doc-link:hover span {\n",
       "  display: block;\n",
       "}\n",
       "\n",
       "/* \"?\"-specific style due to the `<a>` HTML tag */\n",
       "\n",
       "#sk-container-id-1 a.estimator_doc_link {\n",
       "  float: right;\n",
       "  font-size: 1rem;\n",
       "  line-height: 1em;\n",
       "  font-family: monospace;\n",
       "  background-color: var(--sklearn-color-background);\n",
       "  border-radius: 1rem;\n",
       "  height: 1rem;\n",
       "  width: 1rem;\n",
       "  text-decoration: none;\n",
       "  /* unfitted */\n",
       "  color: var(--sklearn-color-unfitted-level-1);\n",
       "  border: var(--sklearn-color-unfitted-level-1) 1pt solid;\n",
       "}\n",
       "\n",
       "#sk-container-id-1 a.estimator_doc_link.fitted {\n",
       "  /* fitted */\n",
       "  border: var(--sklearn-color-fitted-level-1) 1pt solid;\n",
       "  color: var(--sklearn-color-fitted-level-1);\n",
       "}\n",
       "\n",
       "/* On hover */\n",
       "#sk-container-id-1 a.estimator_doc_link:hover {\n",
       "  /* unfitted */\n",
       "  background-color: var(--sklearn-color-unfitted-level-3);\n",
       "  color: var(--sklearn-color-background);\n",
       "  text-decoration: none;\n",
       "}\n",
       "\n",
       "#sk-container-id-1 a.estimator_doc_link.fitted:hover {\n",
       "  /* fitted */\n",
       "  background-color: var(--sklearn-color-fitted-level-3);\n",
       "}\n",
       "</style><div id=\"sk-container-id-1\" class=\"sk-top-container\"><div class=\"sk-text-repr-fallback\"><pre>XGBRegressor(base_score=None, booster=None, callbacks=None,\n",
       "             colsample_bylevel=None, colsample_bynode=None,\n",
       "             colsample_bytree=None, device=None, early_stopping_rounds=None,\n",
       "             enable_categorical=False, eval_metric=None, feature_types=None,\n",
       "             gamma=None, grow_policy=None, importance_type=None,\n",
       "             interaction_constraints=None, learning_rate=None, max_bin=None,\n",
       "             max_cat_threshold=None, max_cat_to_onehot=None,\n",
       "             max_delta_step=None, max_depth=2, max_leaves=None,\n",
       "             min_child_weight=None, missing=nan, monotone_constraints=None,\n",
       "             multi_strategy=None, n_estimators=50, n_jobs=None,\n",
       "             num_parallel_tree=None, random_state=None, ...)</pre><b>In a Jupyter environment, please rerun this cell to show the HTML representation or trust the notebook. <br />On GitHub, the HTML representation is unable to render, please try loading this page with nbviewer.org.</b></div><div class=\"sk-container\" hidden><div class=\"sk-item\"><div class=\"sk-estimator fitted sk-toggleable\"><input class=\"sk-toggleable__control sk-hidden--visually\" id=\"sk-estimator-id-1\" type=\"checkbox\" checked><label for=\"sk-estimator-id-1\" class=\"sk-toggleable__label fitted sk-toggleable__label-arrow fitted\">&nbsp;XGBRegressor<span class=\"sk-estimator-doc-link fitted\">i<span>Fitted</span></span></label><div class=\"sk-toggleable__content fitted\"><pre>XGBRegressor(base_score=None, booster=None, callbacks=None,\n",
       "             colsample_bylevel=None, colsample_bynode=None,\n",
       "             colsample_bytree=None, device=None, early_stopping_rounds=None,\n",
       "             enable_categorical=False, eval_metric=None, feature_types=None,\n",
       "             gamma=None, grow_policy=None, importance_type=None,\n",
       "             interaction_constraints=None, learning_rate=None, max_bin=None,\n",
       "             max_cat_threshold=None, max_cat_to_onehot=None,\n",
       "             max_delta_step=None, max_depth=2, max_leaves=None,\n",
       "             min_child_weight=None, missing=nan, monotone_constraints=None,\n",
       "             multi_strategy=None, n_estimators=50, n_jobs=None,\n",
       "             num_parallel_tree=None, random_state=None, ...)</pre></div> </div></div></div></div>"
      ],
      "text/plain": [
       "XGBRegressor(base_score=None, booster=None, callbacks=None,\n",
       "             colsample_bylevel=None, colsample_bynode=None,\n",
       "             colsample_bytree=None, device=None, early_stopping_rounds=None,\n",
       "             enable_categorical=False, eval_metric=None, feature_types=None,\n",
       "             gamma=None, grow_policy=None, importance_type=None,\n",
       "             interaction_constraints=None, learning_rate=None, max_bin=None,\n",
       "             max_cat_threshold=None, max_cat_to_onehot=None,\n",
       "             max_delta_step=None, max_depth=2, max_leaves=None,\n",
       "             min_child_weight=None, missing=nan, monotone_constraints=None,\n",
       "             multi_strategy=None, n_estimators=50, n_jobs=None,\n",
       "             num_parallel_tree=None, random_state=None, ...)"
      ]
     },
     "execution_count": 11,
     "metadata": {},
     "output_type": "execute_result"
    }
   ],
   "source": [
    "max_depth = 2\n",
    "n_estimators = 50\n",
    "tree_regressor = xgboost.XGBRegressor(n_estimators=n_estimators, max_depth=max_depth)\n",
    "tree_regressor.fit(x, y)"
   ]
  },
  {
   "cell_type": "markdown",
   "id": "6acc4eec",
   "metadata": {},
   "source": [
    "### Calculate feature-specific $R^2$\n",
    "Note that the usage is the same as using a decision tree as shown in the above example. We instantiate the `gazer` class from `qshap` using the `tree_regressor` fitted in the previous stage. Then, we call the `rsq` method on this instance to calculate the Shapley $R^2$ using the `x` and `y` from our dataset."
   ]
  },
  {
   "cell_type": "code",
   "execution_count": 12,
   "id": "e461e927",
   "metadata": {},
   "outputs": [
    {
     "name": "stderr",
     "output_type": "stream",
     "text": [
      "100%|███████████████████████████████████████████████████████████████████████| 50/50 [00:01<00:00, 28.06it/s]\n"
     ]
    }
   ],
   "source": [
    "gazer_rsq = gazer(tree_regressor)\n",
    "rsq_res = gazer.rsq(gazer_rsq, x, y)"
   ]
  },
  {
   "cell_type": "markdown",
   "id": "e2ed884c",
   "metadata": {},
   "source": [
    "## Use Sampling Method for Data of Large Sample Size"
   ]
  },
  {
   "cell_type": "markdown",
   "id": "4faea620",
   "metadata": {},
   "source": [
    "When the sample size is very large, it would be very time-consuming to use all the samples to calculate Shapley $R^2$. Instead, users can use part of the samples by specifying the sampling number through `nsample`. "
   ]
  },
  {
   "cell_type": "code",
   "execution_count": 13,
   "id": "04d54782",
   "metadata": {},
   "outputs": [
    {
     "name": "stderr",
     "output_type": "stream",
     "text": [
      "100%|███████████████████████████████████████████████████████████████████████| 50/50 [00:01<00:00, 47.47it/s]\n"
     ]
    }
   ],
   "source": [
    "gazer_rsq = gazer(tree_regressor)\n",
    "rsq_res_frac = gazer.rsq(gazer_rsq, x, y, nsample=512)"
   ]
  },
  {
   "cell_type": "markdown",
   "id": "bf7214c9",
   "metadata": {},
   "source": [
    "##  Extract Quadratic Loss for Each Sample\n",
    "`qshap` calculates Shapley $R^2$ by aggregating decomposed quadratic losses over individual samples. The package allows to check the Shapley decomposition of quadratic losses of individual samples. "
   ]
  },
  {
   "cell_type": "markdown",
   "id": "56589ff2",
   "metadata": {},
   "source": [
    "### Output $R^2$ and quadratic loss\n",
    "Setting the argument `loss_out` to `True` will simply output both $R^2$ and quadratic losses."
   ]
  },
  {
   "cell_type": "code",
   "execution_count": 14,
   "id": "610377e7",
   "metadata": {},
   "outputs": [
    {
     "name": "stderr",
     "output_type": "stream",
     "text": [
      "100%|███████████████████████████████████████████████████████████████████████| 50/50 [00:01<00:00, 31.63it/s]\n"
     ]
    },
    {
     "data": {
      "text/plain": [
       "array([[0., 0., 0., ..., 0., 0., 0.],\n",
       "       [0., 0., 0., ..., 0., 0., 0.],\n",
       "       [0., 0., 0., ..., 0., 0., 0.],\n",
       "       ...,\n",
       "       [0., 0., 0., ..., 0., 0., 0.],\n",
       "       [0., 0., 0., ..., 0., 0., 0.],\n",
       "       [0., 0., 0., ..., 0., 0., 0.]])"
      ]
     },
     "execution_count": 14,
     "metadata": {},
     "output_type": "execute_result"
    }
   ],
   "source": [
    "rsq_res2 = gazer.rsq(gazer_rsq, x, y, loss_out=True)\n",
    "rsq_res2.rsq\n",
    "rsq_res2.loss"
   ]
  },
  {
   "cell_type": "markdown",
   "id": "95071d82",
   "metadata": {},
   "source": [
    "### Output the quadratic loss only\n",
    "If you are only intersted in the quadratic loss, its decomposition could be directly calculated using the `loss` funciton of the class `gazer`. "
   ]
  },
  {
   "cell_type": "code",
   "execution_count": 15,
   "id": "7a327de8",
   "metadata": {},
   "outputs": [
    {
     "name": "stderr",
     "output_type": "stream",
     "text": [
      "100%|███████████████████████████████████████████████████████████████████████| 50/50 [00:01<00:00, 32.75it/s]\n"
     ]
    }
   ],
   "source": [
    "loss_res = gazer.loss(gazer_rsq, x, y)"
   ]
  },
  {
   "cell_type": "markdown",
   "id": "e4eef0f0",
   "metadata": {},
   "source": [
    "### Calculate the quadratic loss for limited samples\n",
    "If you are only interested in a small set of samples for their quadratic losses attached to different features, you don't need go through all samples. All you have to do is to add the original mean of y, in addition to the data of interest. This makes the calculation very fast, especially when the sample size is large. "
   ]
  },
  {
   "cell_type": "code",
   "execution_count": 16,
   "id": "9b15665d",
   "metadata": {},
   "outputs": [
    {
     "name": "stderr",
     "output_type": "stream",
     "text": [
      "100%|██████████████████████████████████████████████████████████████████████| 50/50 [00:00<00:00, 676.61it/s]\n",
      "100%|██████████████████████████████████████████████████████████████████████| 50/50 [00:00<00:00, 168.52it/s]\n"
     ]
    }
   ],
   "source": [
    "# loss decomposition for the first sample.\n",
    "loss_sample1 = gazer.loss(gazer_rsq, x[0:1, :], y[0], y_mean_ori=np.mean(y))\n",
    "# loss decomposition for the first 100 samples.\n",
    "loss_multiple = gazer.loss(gazer_rsq, x[0:99], y[0:99], y_mean_ori=np.mean(y))"
   ]
  },
  {
   "cell_type": "markdown",
   "id": "36e65829",
   "metadata": {},
   "source": [
    "## Visualization of Feature-Specific $R^2$\n",
    "This section will demonstrate how to use the visualization module in `qshap`. "
   ]
  },
  {
   "cell_type": "markdown",
   "id": "9aac8e5a",
   "metadata": {},
   "source": [
    "### Import the module\n",
    "First, we import the `vis` module from `qshap`."
   ]
  },
  {
   "cell_type": "code",
   "execution_count": 18,
   "id": "4720a1a1",
   "metadata": {},
   "outputs": [],
   "source": [
    "from qshap import vis"
   ]
  },
  {
   "cell_type": "markdown",
   "id": "45b95fe4",
   "metadata": {},
   "source": [
    "### Quick plot\n",
    "Simply call the `rsq` function in the `vis` class on the result from `gazer.rsq` to visualize.  \n",
    "(`vis` is a general function that can work on numpy arrays)."
   ]
  },
  {
   "cell_type": "code",
   "execution_count": 19,
   "id": "c8b73743",
   "metadata": {},
   "outputs": [
    {
     "data": {
      "image/png": "[encoded data removed]",
      "text/plain": [
       "<Figure size 640x480 with 1 Axes>"
      ]
     },
     "metadata": {},
     "output_type": "display_data"
    }
   ],
   "source": [
    "# default\n",
    "vis.rsq(rsq_res)"
   ]
  },
  {
   "cell_type": "markdown",
   "id": "af995726",
   "metadata": {},
   "source": [
    "### Different color schemes"
   ]
  },
  {
   "cell_type": "markdown",
   "id": "9a2f8f69",
   "metadata": {},
   "source": [
    "You can change the color map of the histogram by changing `color_map_name`, taking arguments from `matplotlib`, with some examples [here](https://matplotlib.org/stable/users/explain/colors/colormaps.html). In addition, you can focus on more influential by setting a cutoff of $R^2$ by changing the `cutoff` argument."
   ]
  },
  {
   "cell_type": "code",
   "execution_count": 20,
   "id": "7320660e",
   "metadata": {},
   "outputs": [
    {
     "data": {
      "image/png": "[encoded data removed]",
      "text/plain": [
       "<Figure size 640x480 with 1 Axes>"
      ]
     },
     "metadata": {},
     "output_type": "display_data"
    }
   ],
   "source": [
    "# change color \n",
    "vis.rsq(rsq_res, cutoff=0.05, color_map_name=\"Pastel2\")"
   ]
  },
  {
   "cell_type": "markdown",
   "id": "11137f6f",
   "metadata": {},
   "source": [
    "### More options\n",
    "There are many other options for the visualization function. Below is an example that outputs a horizontal plot, hides \"Model $R^2$\" label, changes the number of features to show, and saves the plot in pdf format with a user-specified name. "
   ]
  },
  {
   "cell_type": "code",
   "execution_count": 21,
   "id": "774aa780",
   "metadata": {},
   "outputs": [
    {
     "data": {
      "image/png": "[encoded data removed]",
      "text/plain": [
       "<Figure size 640x480 with 1 Axes>"
      ]
     },
     "metadata": {},
     "output_type": "display_data"
    }
   ],
   "source": [
    "vis.rsq(rsq_res, color_map_name=\"PuBu\", horizontal=True, model_rsq=False, max_feature=15, save_name=\"rsq_eg\")"
   ]
  },
  {
   "cell_type": "markdown",
   "id": "b7a105f5",
   "metadata": {},
   "source": [
    "### Visualization of quadratic losses of individual samples\n",
    "We can use the function `loss` to visualize the Shapley decomposition of individual quadratic losses.\n",
    "The plot is interactive and you can explore the sample of interest by changing the value in the box next to \"Sample Index\". "
   ]
  },
  {
   "cell_type": "code",
   "execution_count": 22,
   "id": "99fd5888",
   "metadata": {},
   "outputs": [
    {
     "data": {
      "application/vnd.jupyter.widget-view+json": {
       "model_id": "0765300be5414c7e80a8137850243b29",
       "version_major": 2,
       "version_minor": 0
      },
      "text/plain": [
       "VBox(children=(BoundedIntText(value=0, continuous_update=True, description='Sample Index', layout=Layout(width…"
      ]
     },
     "metadata": {},
     "output_type": "display_data"
    },
    {
     "data": {
      "application/vnd.jupyter.widget-view+json": {
       "model_id": "2a5867a391dc400e8811fe3a6c7c416b",
       "version_major": 2,
       "version_minor": 0
      },
      "text/plain": [
       "Output()"
      ]
     },
     "metadata": {},
     "output_type": "display_data"
    },
    {
     "data": {
      "image/png": "[encoded data removed]",
      "text/plain": [
       "<Figure size 640x480 with 1 Axes>"
      ]
     },
     "metadata": {},
     "output_type": "display_data"
    }
   ],
   "source": [
    "# Vidualize individual loss\n",
    "# The interactive effect works with jupyter notebook\n",
    "vis.loss(loss_res)\n",
    "\n",
    "# Find a lovely plot for one sample and save it, say for the 10-th sample\n",
    "vis.loss(loss_res, save_ind=10)"
   ]
  },
  {
   "cell_type": "markdown",
   "id": "bc4e6197",
   "metadata": {},
   "source": [
    "### Generalized correlation of individual features to the outcome\n",
    "For each feature, its generalized correlation to the outcome is defined as the square root of its Shapley $R^2$. You can visualize it by simply calling `gcorr` on the output of `gazer.rsq`."
   ]
  },
  {
   "cell_type": "code",
   "execution_count": 23,
   "id": "1a7532bf",
   "metadata": {},
   "outputs": [
    {
     "data": {
      "image/png": "[encoded data removed]",
      "text/plain": [
       "<Figure size 640x480 with 1 Axes>"
      ]
     },
     "metadata": {},
     "output_type": "display_data"
    }
   ],
   "source": [
    "vis.gcorr(rsq_res, color_map_name=\"viridis\")"
   ]
  }
 ],
 "metadata": {
  "kernelspec": {
   "display_name": "Python 3 (ipykernel)",
   "language": "python",
   "name": "python3"
  },
  "language_info": {
   "codemirror_mode": {
    "name": "ipython",
    "version": 3
   },
   "file_extension": ".py",
   "mimetype": "text/x-python",
   "name": "python",
   "nbconvert_exporter": "python",
   "pygments_lexer": "ipython3",
   "version": "3.12.4"
  },
  "toc": {
   "base_numbering": 1,
   "nav_menu": {},
   "number_sections": true,
   "sideBar": true,
   "skip_h1_title": false,
   "title_cell": "Table of Contents",
   "title_sidebar": "Contents",
   "toc_cell": false,
   "toc_position": {},
   "toc_section_display": true,
   "toc_window_display": false
  }
 },
 "nbformat": 4,
 "nbformat_minor": 5
}
